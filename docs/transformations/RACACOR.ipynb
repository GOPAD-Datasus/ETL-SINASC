{
 "cells": [
  {
   "cell_type": "code",
   "execution_count": null,
   "id": "50d9cff1",
   "metadata": {},
   "outputs": [
    {
     "name": "stderr",
     "output_type": "stream",
     "text": [
      "C:\\Users\\ricmo\\AppData\\Local\\Temp\\ipykernel_1188\\3928338567.py:5: DtypeWarning: Columns (45) have mixed types. Specify dtype option on import or set low_memory=False.\n",
      "  df = pd.read_csv(path, dtype={}, sep=',')\n"
     ]
    }
   ],
   "source": [
    "import pandas as pd\n",
    "import numpy as np\n",
    "\n",
    "path = 'R:/GitHub/ETL-SINASC/temp/raw/DN2012.csv'\n",
    "df = pd.read_csv(path, dtype={}, sep=',')\n",
    "\n",
    "path = 'R:/GitHub/ETL-SINASC/temp/raw/DN2013.csv'\n",
    "df2 = pd.read_csv(path, dtype={}, sep=',')"
   ]
  },
  {
   "cell_type": "markdown",
   "id": "a33eb233",
   "metadata": {},
   "source": [
    "## RACACOR, RACACORN and RACACORMAE"
   ]
  },
  {
   "cell_type": "markdown",
   "id": "9efde4ab",
   "metadata": {},
   "source": [
    "#### 2012"
   ]
  },
  {
   "cell_type": "code",
   "execution_count": 2,
   "id": "3da2869a",
   "metadata": {},
   "outputs": [
    {
     "data": {
      "text/plain": [
       "RACACOR  RACACORN\n",
       "1.0      1.0         64000\n",
       "4.0      4.0         29720\n",
       "2.0      2.0          1493\n",
       "5.0      5.0           582\n",
       "3.0      3.0           203\n",
       "1.0      4.0             5\n",
       "4.0      1.0             4\n",
       "2.0      4.0             1\n",
       "Name: count, dtype: int64"
      ]
     },
     "execution_count": 2,
     "metadata": {},
     "output_type": "execute_result"
    }
   ],
   "source": [
    "df[['RACACOR', 'RACACORN']].value_counts()"
   ]
  },
  {
   "cell_type": "code",
   "execution_count": 3,
   "id": "2e877309",
   "metadata": {},
   "outputs": [
    {
     "data": {
      "text/plain": [
       "RACACOR  RACACORMAE\n",
       "4.0      4.0           1483792\n",
       "1.0      1.0           1024390\n",
       "2.0      2.0            152124\n",
       "5.0      5.0             21119\n",
       "3.0      3.0             10889\n",
       "Name: count, dtype: int64"
      ]
     },
     "execution_count": 3,
     "metadata": {},
     "output_type": "execute_result"
    }
   ],
   "source": [
    "df[['RACACOR', 'RACACORMAE']].value_counts()"
   ]
  },
  {
   "cell_type": "markdown",
   "id": "f886f577",
   "metadata": {},
   "source": [
    "#### 2013"
   ]
  },
  {
   "cell_type": "code",
   "execution_count": null,
   "id": "ce908330",
   "metadata": {},
   "outputs": [
    {
     "data": {
      "text/plain": [
       "RACACOR  RACACORN\n",
       "1.0      1.0         8753\n",
       "4.0      4.0         7342\n",
       "2.0      2.0          416\n",
       "5.0      5.0          281\n",
       "3.0      3.0           31\n",
       "Name: count, dtype: int64"
      ]
     },
     "execution_count": 5,
     "metadata": {},
     "output_type": "execute_result"
    }
   ],
   "source": [
    "df2[['RACACOR', 'RACACORN']].value_counts()"
   ]
  },
  {
   "cell_type": "code",
   "execution_count": null,
   "id": "6fa94eed",
   "metadata": {},
   "outputs": [
    {
     "data": {
      "text/plain": [
       "RACACOR  RACACORMAE\n",
       "4.0      4.0           1529017\n",
       "1.0      1.0           1051250\n",
       "2.0      2.0            155129\n",
       "5.0      5.0             21749\n",
       "3.0      3.0             11555\n",
       "1.0      4.0                 4\n",
       "4.0      2.0                 2\n",
       "         1.0                 1\n",
       "Name: count, dtype: int64"
      ]
     },
     "execution_count": 6,
     "metadata": {},
     "output_type": "execute_result"
    }
   ],
   "source": [
    "df2[['RACACOR', 'RACACORMAE']].value_counts()"
   ]
  }
 ],
 "metadata": {
  "kernelspec": {
   "display_name": "Python 3",
   "language": "python",
   "name": "python3"
  },
  "language_info": {
   "codemirror_mode": {
    "name": "ipython",
    "version": 3
   },
   "file_extension": ".py",
   "mimetype": "text/x-python",
   "name": "python",
   "nbconvert_exporter": "python",
   "pygments_lexer": "ipython3",
   "version": "3.9.13"
  }
 },
 "nbformat": 4,
 "nbformat_minor": 5
}
